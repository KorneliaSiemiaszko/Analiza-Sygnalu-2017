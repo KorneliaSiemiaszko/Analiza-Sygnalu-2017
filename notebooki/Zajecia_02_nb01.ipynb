{
  "cells": [
    {
      "cell_type": "markdown",
      "source": [
        "# Listy - ćwiczenia\n",
        "Na początek rzucimy się w szybką powtórkę materiału domowego dot. list i nie tylko...  \n",
        "(*w tym momencie następują pytania do klasy*)"
      ],
      "metadata": {
        "collapsed": false,
        "outputHidden": false,
        "inputHidden": false
      }
    },
    {
      "cell_type": "code",
      "source": [
        "lst = [8, 'kominiarz', 'czapka', 23, 'wombat']"
      ],
      "outputs": [],
      "execution_count": 1,
      "metadata": {}
    },
    {
      "cell_type": "markdown",
      "source": [
        "## Zadania:\n",
        "* zaadresuj (wydobądź) element o wartości `czapka`\n",
        "* zaadresuj element o wartości `23`\n",
        "* dostań się do litery `'o'` (wymaga podwójnego indeksowania - raz do odpowiedniego słowa, a następnie do odpowiedniej litery)\n",
        "* dodaj element na końcu listy o wartości będącej liczbą Twoich lat (przeżytych) pomniejszoną o sumę wieku Twojego rodzeństwa"
      ],
      "metadata": {
        "collapsed": false,
        "outputHidden": false,
        "inputHidden": false
      }
    },
    {
      "cell_type": "markdown",
      "source": [
        "*pytanie do wszystkich o intuicje w sprawie operacji in-place (slajd)*"
      ],
      "metadata": {}
    },
    {
      "cell_type": "markdown",
      "source": [],
      "metadata": {}
    }
  ],
  "metadata": {
    "kernelspec": {
      "name": "python3",
      "language": "python",
      "display_name": "Python 3"
    },
    "kernel_info": {
      "name": "python3"
    },
    "language_info": {
      "name": "python",
      "version": "3.6.1",
      "mimetype": "text/x-python",
      "codemirror_mode": {
        "name": "ipython",
        "version": 3
      },
      "pygments_lexer": "ipython3",
      "nbconvert_exporter": "python",
      "file_extension": ".py"
    },
    "nteract": {
      "version": "0.3.1"
    }
  },
  "nbformat": 4,
  "nbformat_minor": 4
}