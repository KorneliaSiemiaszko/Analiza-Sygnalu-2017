{
 "cells": [
  {
   "cell_type": "markdown",
   "metadata": {},
   "source": [
    "# Python 01\n",
    "W tym notebook'u poznajemy podstawy pythona aby móc szczęśliwie i beztrosko korzystać później z mne-python'a.  \n",
    "Na początku zobaczymy jak przeprowadzać podstawowe operacje (np. matematyczne) oraz tworzyć różne rodzaje zmiennych."
   ]
  },
  {
   "cell_type": "markdown",
   "metadata": {},
   "source": [
    "Proste operacje matematyczne:"
   ]
  },
  {
   "cell_type": "code",
   "execution_count": 148,
   "metadata": {},
   "outputs": [
    {
     "data": {
      "text/plain": [
       "13"
      ]
     },
     "execution_count": 148,
     "metadata": {},
     "output_type": "execute_result"
    }
   ],
   "source": [
    "5 + 8"
   ]
  },
  {
   "cell_type": "code",
   "execution_count": 149,
   "metadata": {},
   "outputs": [
    {
     "data": {
      "text/plain": [
       "12"
      ]
     },
     "execution_count": 149,
     "metadata": {},
     "output_type": "execute_result"
    }
   ],
   "source": [
    "3 * 4"
   ]
  },
  {
   "cell_type": "code",
   "execution_count": 150,
   "metadata": {},
   "outputs": [
    {
     "data": {
      "text/plain": [
       "11.0"
      ]
     },
     "execution_count": 150,
     "metadata": {},
     "output_type": "execute_result"
    }
   ],
   "source": [
    "88 / 8"
   ]
  },
  {
   "cell_type": "markdown",
   "metadata": {},
   "source": [
    "Zwróćcie uwagę na otput - w pierwszych dwóch przypadkach są to liczby całkowite (bez miejsc dziesiętnych) - w trzecim przypadku wartość liczby jest całkowita, ale komputer reprezentuje ją z przecinkiem. Reprezentacje liczb bez przecinka to `integer` (w skrócie `int`) natomiast reprezentacje z przecinkiem to `float`. Jeszcze do tego wrócimy, na razie tylko zwróćcie uwagę na tę różnicę.\n",
    "  \n",
    "Przejdźmy do operacji na tekście, tekst to ciąg znaków zamkniętych w cudzysłowach (`\"`) albo apostrofach (`'`). Nie ma znaczenia czy używamy cudzysłowów czy apostrofów."
   ]
  },
  {
   "cell_type": "code",
   "execution_count": 151,
   "metadata": {},
   "outputs": [
    {
     "data": {
      "text/plain": [
       "'traktor'"
      ]
     },
     "execution_count": 151,
     "metadata": {},
     "output_type": "execute_result"
    }
   ],
   "source": [
    "'traktor'"
   ]
  },
  {
   "cell_type": "code",
   "execution_count": 152,
   "metadata": {},
   "outputs": [
    {
     "data": {
      "text/plain": [
       "'traktor'"
      ]
     },
     "execution_count": 152,
     "metadata": {},
     "output_type": "execute_result"
    }
   ],
   "source": [
    "\"traktor\""
   ]
  },
  {
   "cell_type": "code",
   "execution_count": 153,
   "metadata": {},
   "outputs": [
    {
     "data": {
      "text/plain": [
       "True"
      ]
     },
     "execution_count": 153,
     "metadata": {},
     "output_type": "execute_result"
    }
   ],
   "source": [
    "\"traktor\" == 'traktor'"
   ]
  },
  {
   "cell_type": "markdown",
   "metadata": {},
   "source": [
    "Powyżej skorzystaliśmy z operacji identyczności - porównujemy za jej pomocą czy to po lewej stronie to to samo co to po prawej. Dostaliśmy odpowiedź `True` tzn. napis `'traktor'` oraz `\"traktor\"` to to samo.  \n",
    "Zwróćcie uwagę, że w pythonie możemy dodawać oraz mnożyć napisy:"
   ]
  },
  {
   "cell_type": "code",
   "execution_count": 154,
   "metadata": {},
   "outputs": [
    {
     "data": {
      "text/plain": [
       "'Traktor jedzie'"
      ]
     },
     "execution_count": 154,
     "metadata": {},
     "output_type": "execute_result"
    }
   ],
   "source": [
    "'Traktor' + ' jedzie'"
   ]
  },
  {
   "cell_type": "code",
   "execution_count": 155,
   "metadata": {},
   "outputs": [
    {
     "data": {
      "text/plain": [
       "'pythonjestsuper'"
      ]
     },
     "execution_count": 155,
     "metadata": {},
     "output_type": "execute_result"
    }
   ],
   "source": [
    "'python' + 'jest' + 'super'"
   ]
  },
  {
   "cell_type": "code",
   "execution_count": 157,
   "metadata": {},
   "outputs": [
    {
     "data": {
      "text/plain": [
       "'!!!'"
      ]
     },
     "execution_count": 157,
     "metadata": {},
     "output_type": "execute_result"
    }
   ],
   "source": [
    "'!' * 3"
   ]
  },
  {
   "cell_type": "code",
   "execution_count": 159,
   "metadata": {},
   "outputs": [
    {
     "data": {
      "text/plain": [
       "'python jest super!!!!!'"
      ]
     },
     "execution_count": 159,
     "metadata": {},
     "output_type": "execute_result"
    }
   ],
   "source": [
    "'python' + ' ' + 'jest' + ' super' + '!' * 5"
   ]
  },
  {
   "cell_type": "markdown",
   "metadata": {},
   "source": [
    "Podobnie jak w matematyce, w przypadku wykonywania operacji takich jak dodawanie czy mnożenie na napisach - nawiasy dyktują kolejność wykonywania operacji:"
   ]
  },
  {
   "cell_type": "code",
   "execution_count": 160,
   "metadata": {},
   "outputs": [
    {
     "data": {
      "text/plain": [
       "'python jest super!python jest super!python jest super!python jest super!python jest super!'"
      ]
     },
     "execution_count": 160,
     "metadata": {},
     "output_type": "execute_result"
    }
   ],
   "source": [
    "('python' + ' ' + 'jest' + ' super' + '!') * 5"
   ]
  },
  {
   "cell_type": "markdown",
   "metadata": {},
   "source": [
    "Na napisach nie można wykonywać dzielenia ani odejmowania, jeżeli spróbujemy to zrobić wyskoczy nam błąd:"
   ]
  },
  {
   "cell_type": "code",
   "execution_count": 161,
   "metadata": {},
   "outputs": [
    {
     "ename": "TypeError",
     "evalue": "unsupported operand type(s) for -: 'str' and 'str'",
     "output_type": "error",
     "traceback": [
      "\u001b[1;31m---------------------------------------------------------------------------\u001b[0m",
      "\u001b[1;31mTypeError\u001b[0m                                 Traceback (most recent call last)",
      "\u001b[1;32m<ipython-input-161-52d0e193b63e>\u001b[0m in \u001b[0;36m<module>\u001b[1;34m()\u001b[0m\n\u001b[1;32m----> 1\u001b[1;33m \u001b[1;34m'abc'\u001b[0m \u001b[1;33m-\u001b[0m \u001b[1;34m'b'\u001b[0m\u001b[1;33m\u001b[0m\u001b[0m\n\u001b[0m",
      "\u001b[1;31mTypeError\u001b[0m: unsupported operand type(s) for -: 'str' and 'str'"
     ]
    }
   ],
   "source": [
    "'abc' - 'b'"
   ]
  },
  {
   "cell_type": "markdown",
   "metadata": {},
   "source": [
    "Będziemy się uczyć jeszcze czytać i rozumieć błędy, na razie wystarczy nam stwierdzenie, że operacja odejmowania nie obsługuje wartości będących napisami. Tak samo jest z dzieleniem:"
   ]
  },
  {
   "cell_type": "code",
   "execution_count": 162,
   "metadata": {},
   "outputs": [
    {
     "ename": "TypeError",
     "evalue": "unsupported operand type(s) for /: 'str' and 'str'",
     "output_type": "error",
     "traceback": [
      "\u001b[1;31m---------------------------------------------------------------------------\u001b[0m",
      "\u001b[1;31mTypeError\u001b[0m                                 Traceback (most recent call last)",
      "\u001b[1;32m<ipython-input-162-9b2322744434>\u001b[0m in \u001b[0;36m<module>\u001b[1;34m()\u001b[0m\n\u001b[1;32m----> 1\u001b[1;33m \u001b[1;34m'abba'\u001b[0m \u001b[1;33m/\u001b[0m \u001b[1;34m'a'\u001b[0m\u001b[1;33m\u001b[0m\u001b[0m\n\u001b[0m",
      "\u001b[1;31mTypeError\u001b[0m: unsupported operand type(s) for /: 'str' and 'str'"
     ]
    }
   ],
   "source": [
    "'abba' / 'a'"
   ]
  },
  {
   "cell_type": "markdown",
   "metadata": {},
   "source": [
    "### Ćwiczenia\n",
    "* policz (w pythonie!) ile jest `12 * 8`\n",
    "* powtórz 25 razy ciąg znaków `-~oOo~-`"
   ]
  },
  {
   "cell_type": "markdown",
   "metadata": {},
   "source": [
    "## Zmienne\n",
    "Podstawowym budulcem programowania oprócz operacji są zmienne. Zmienne to po prostu sposób zapamiętywania wartości - wartości łączy się z nazwami. To trochę tak jakby wkładać wartość do pudełka na którym napisana jest nazwa. Mówimy o *przypisaniu wartości do zmiennej*, operacja ta ma zawsze formę:\n",
    "```python\n",
    "nazwa_zmiennej = wartość_zmiennej\n",
    "```\n",
    "Zobaczcie zresztą sami:"
   ]
  },
  {
   "cell_type": "code",
   "execution_count": 163,
   "metadata": {
    "collapsed": true
   },
   "outputs": [],
   "source": [
    "moja_zmienna = 4"
   ]
  },
  {
   "cell_type": "markdown",
   "metadata": {},
   "source": [
    "Teraz w zmiennej `moja_zmienna` mieszka wartość 4.  \n",
    "Sprawdź to, w komórce poniżej napisz `moja_zmienna`, naciśnij `Shift + Enter` i zobacz co Ci wyskoczy:"
   ]
  },
  {
   "cell_type": "code",
   "execution_count": null,
   "metadata": {
    "collapsed": true
   },
   "outputs": [],
   "source": []
  },
  {
   "cell_type": "markdown",
   "metadata": {},
   "source": [
    "Na zmiennych możemy wykonywać operacje tak samo jak robiliśmy to wcześniej na wartościach:"
   ]
  },
  {
   "cell_type": "code",
   "execution_count": 164,
   "metadata": {},
   "outputs": [
    {
     "data": {
      "text/plain": [
       "12"
      ]
     },
     "execution_count": 164,
     "metadata": {},
     "output_type": "execute_result"
    }
   ],
   "source": [
    "3 * moja_zmienna"
   ]
  },
  {
   "cell_type": "code",
   "execution_count": 165,
   "metadata": {},
   "outputs": [
    {
     "data": {
      "text/plain": [
       "'pythonpythonpythonpython'"
      ]
     },
     "execution_count": 165,
     "metadata": {},
     "output_type": "execute_result"
    }
   ],
   "source": [
    "moja_zmienna * 'python'"
   ]
  },
  {
   "cell_type": "markdown",
   "metadata": {},
   "source": [
    "Możemy w jednej komórce zmieścić więcej kodu i wykonać operację na dwóch zmiennych:"
   ]
  },
  {
   "cell_type": "code",
   "execution_count": 166,
   "metadata": {},
   "outputs": [
    {
     "data": {
      "text/plain": [
       "2272"
      ]
     },
     "execution_count": 166,
     "metadata": {},
     "output_type": "execute_result"
    }
   ],
   "source": [
    "a = 16\n",
    "b = 142\n",
    "\n",
    "a * b"
   ]
  },
  {
   "cell_type": "markdown",
   "metadata": {},
   "source": [
    "Zmienna może zmieniać swoją wartość jeżeli tego chcemy. W zmiennej `b` jest teraz:"
   ]
  },
  {
   "cell_type": "code",
   "execution_count": 167,
   "metadata": {},
   "outputs": [
    {
     "data": {
      "text/plain": [
       "142"
      ]
     },
     "execution_count": 167,
     "metadata": {},
     "output_type": "execute_result"
    }
   ],
   "source": [
    "b"
   ]
  },
  {
   "cell_type": "markdown",
   "metadata": {},
   "source": [
    "Ale możemy przypisać inną wartość do tej zmiennej:"
   ]
  },
  {
   "cell_type": "code",
   "execution_count": 168,
   "metadata": {
    "collapsed": true
   },
   "outputs": [],
   "source": [
    "b = 'kot'"
   ]
  },
  {
   "cell_type": "markdown",
   "metadata": {},
   "source": [
    "Teraz w zmiennej `b` jest nowo przypisana wartość:"
   ]
  },
  {
   "cell_type": "code",
   "execution_count": 169,
   "metadata": {},
   "outputs": [
    {
     "data": {
      "text/plain": [
       "'kot'"
      ]
     },
     "execution_count": 169,
     "metadata": {},
     "output_type": "execute_result"
    }
   ],
   "source": [
    "b"
   ]
  },
  {
   "cell_type": "markdown",
   "metadata": {},
   "source": [
    "## Funkcje\n",
    "Kolejnym podstawowym konstruktem programistycznym jest funkcja. Funkcja to takie coś co przyjmuje jakieś *argumenty* i coś z tymi argumentami robi (przekształca, wyświetla itp.). Funkcje uruchamiamy zwykle tak:\n",
    "```python\n",
    "nazwa_funkcji(argument1, argument2)\n",
    "```\n",
    "\n",
    "Jedną z podstawowych funkcji jest funkcja `print` - to funkcja, która wyświetla podane argumenty:"
   ]
  },
  {
   "cell_type": "code",
   "execution_count": 170,
   "metadata": {},
   "outputs": [
    {
     "name": "stdout",
     "output_type": "stream",
     "text": [
      "to jest napis\n"
     ]
    }
   ],
   "source": [
    "print('to jest napis')"
   ]
  },
  {
   "cell_type": "code",
   "execution_count": 171,
   "metadata": {},
   "outputs": [
    {
     "name": "stdout",
     "output_type": "stream",
     "text": [
      "6\n"
     ]
    }
   ],
   "source": [
    "print(moja_zmienna + 2)"
   ]
  },
  {
   "cell_type": "markdown",
   "metadata": {},
   "source": [
    "Jeżeli argumentów jest więcej niż jeden, rozdzielamy je przecinkami:"
   ]
  },
  {
   "cell_type": "code",
   "execution_count": 172,
   "metadata": {},
   "outputs": [
    {
     "name": "stdout",
     "output_type": "stream",
     "text": [
      "to jest napis\n"
     ]
    }
   ],
   "source": [
    "print('to', 'jest', 'napis')"
   ]
  },
  {
   "cell_type": "markdown",
   "metadata": {},
   "source": [
    "Funkcje posiadają też czasem tzw. *argumenty nazwowe* czyli takie argumenty, które identyfikowane są nie tylko przez pozycję (kolejność) ale nazwę. Tego rodzaju argumenty wykorzystujemy tak:\n",
    "```python\n",
    "nazwa_funkcji(argument1, argument2, nazwa_argumentu=wartosc_argumentu)\n",
    "```"
   ]
  },
  {
   "cell_type": "markdown",
   "metadata": {},
   "source": [
    "Funkcja `print` ma argument nazwowy `sep` (od *separator*), który pozwala kontrolować jakimi znakami rozdzielane są wyświetlane wartości podanych argumentów. Domyślnie jest to spacja (zobacz jeden z przykładów wyżej).\n",
    "Przykłady:"
   ]
  },
  {
   "cell_type": "code",
   "execution_count": 173,
   "metadata": {},
   "outputs": [
    {
     "name": "stdout",
     "output_type": "stream",
     "text": [
      "to jest królik\n"
     ]
    }
   ],
   "source": [
    "# bez użycia sep\n",
    "zm1 = 'królik'\n",
    "print('to', 'jest', zm1)"
   ]
  },
  {
   "cell_type": "code",
   "execution_count": 174,
   "metadata": {},
   "outputs": [
    {
     "name": "stdout",
     "output_type": "stream",
     "text": [
      "to-~oOo~-jest-~oOo~-królik\n"
     ]
    }
   ],
   "source": [
    "# z użyciem sep\n",
    "zm1 = 'królik'\n",
    "print('to', 'jest', zm1, sep='-~oOo~-')"
   ]
  },
  {
   "cell_type": "markdown",
   "metadata": {},
   "source": [
    "### Zadanie\n",
    "Utwórz trzy zmienne: `karp`, `garb` oraz `skarb`. Pierwszej przypisz wartość `12.5` (dwanaście i pół), drugiej `'kraba'` a trzeciej `'i żaba'`.  \n",
    "Następnie użyj funkcji `print` aby wyświetlić zmienne `karp`, `garb` oraz `skarb` (w tej kolejności) rozdzielając je ciągiem znaków `' ... '`."
   ]
  },
  {
   "cell_type": "markdown",
   "metadata": {},
   "source": [
    "* rodzaje zmiennych\n",
    "* moduł `os`\n",
    "* napis składa się z liter - indeksowanie, wstęp (?)"
   ]
  },
  {
   "cell_type": "markdown",
   "metadata": {},
   "source": [
    "## Rodzaje (*typy*) zmiennych\n",
    "Poznaliśmy już trzy typt zmiennych:\n",
    "* wartości całkowite (*integer* inaczej `int`) np. `1` lub `13`\n",
    "* wartości niecałkowite (*floating-point* inaczej `float`) np. `1.22` lub `13.0` (ważna jest reprezentacja miejsc po przecinku, nawet jeżeli są tam tylko zera to zmienna jest typu `float`\n",
    "* tekst (*string of characters* inaczej `str`)\n",
    "\n",
    "Jeżeli nie wiemy jakiego typu jest dana zmienna, możemy skorzystać z funkcji `type`:\n",
    "```python\n",
    "type(nazwa_zmiennej)\n",
    "```"
   ]
  },
  {
   "cell_type": "code",
   "execution_count": 175,
   "metadata": {},
   "outputs": [
    {
     "data": {
      "text/plain": [
       "int"
      ]
     },
     "execution_count": 175,
     "metadata": {},
     "output_type": "execute_result"
    }
   ],
   "source": [
    "type(moja_zmienna)"
   ]
  },
  {
   "cell_type": "code",
   "execution_count": 176,
   "metadata": {},
   "outputs": [
    {
     "data": {
      "text/plain": [
       "str"
      ]
     },
     "execution_count": 176,
     "metadata": {},
     "output_type": "execute_result"
    }
   ],
   "source": [
    "type('jakiś napis')"
   ]
  },
  {
   "cell_type": "code",
   "execution_count": 177,
   "metadata": {},
   "outputs": [
    {
     "data": {
      "text/plain": [
       "str"
      ]
     },
     "execution_count": 177,
     "metadata": {},
     "output_type": "execute_result"
    }
   ],
   "source": [
    "s = 'jakiś inny napis'\n",
    "type(s)"
   ]
  },
  {
   "cell_type": "code",
   "execution_count": 178,
   "metadata": {},
   "outputs": [
    {
     "data": {
      "text/plain": [
       "float"
      ]
     },
     "execution_count": 178,
     "metadata": {},
     "output_type": "execute_result"
    }
   ],
   "source": [
    "type(13.0)"
   ]
  },
  {
   "cell_type": "code",
   "execution_count": 179,
   "metadata": {},
   "outputs": [
    {
     "data": {
      "text/plain": [
       "int"
      ]
     },
     "execution_count": 179,
     "metadata": {},
     "output_type": "execute_result"
    }
   ],
   "source": [
    "type(13)"
   ]
  },
  {
   "cell_type": "markdown",
   "metadata": {},
   "source": [
    "### Zadanie\n",
    "W komórce poniżej sprawdź typ zmiennej `kubraczek` - to nowy rodzaj zmiennej, o której nauczycie się w ramach pracy domowej."
   ]
  },
  {
   "cell_type": "code",
   "execution_count": 181,
   "metadata": {
    "collapsed": true
   },
   "outputs": [],
   "source": [
    "kubraczek = ['co', 'to', 'jest?']\n",
    "# tutaj sprawdź typ"
   ]
  },
  {
   "cell_type": "markdown",
   "metadata": {},
   "source": [
    "## Moduł `os`\n",
    "Mamy już pewne podstawy poruszania się w pythonie. Kluczowym elementem analizy danych jest wczytywanie danych z dysku a zatem również poruszanie się w systemie plików. Służy nam do tego biblioteka `os` (od *operating system*). Aby zastosować funkcje z biblioteki `os` musimy ją wczytać, w pythonie wczytujemy biblioteki (inaczej *moduły*) tak:\n",
    "```python\n",
    "import nazwa_modułu\n",
    "```"
   ]
  },
  {
   "cell_type": "code",
   "execution_count": 180,
   "metadata": {
    "collapsed": true
   },
   "outputs": [],
   "source": [
    "import os"
   ]
  },
  {
   "cell_type": "markdown",
   "metadata": {},
   "source": [
    "Gdy chcemy teraz skorzystać z funkcji dostępnej w ramach modułu `os` musimy napisać pythonowi że chodzi o funkcję z tego pakietu. Robimy to korzystając z funkcji tak:\n",
    "```python\n",
    "nazwa_pakietu.nazwa_funkcji(argument1, argument2)\n",
    "```\n",
    "W tym wypadku skorzystaj z funkcji `getcwd` (od *get current working directory*) - ta funkcja zwraca nam informację na temat tego w jakim foldrze się znajdujemy. Funkcja `getcwd` nie przyjumje argumentów w związku z tym wywołamy ją w podobny sposób co:\n",
    "```python\n",
    "nazwa_pakietu.nazwa_funkcji()\n",
    "```\n",
    "Twoja kolej, sprawdź w jakim folderze jesteś za pomocą funkcji `getcwd`:"
   ]
  },
  {
   "cell_type": "code",
   "execution_count": null,
   "metadata": {
    "collapsed": true
   },
   "outputs": [],
   "source": []
  },
  {
   "cell_type": "markdown",
   "metadata": {},
   "source": [
    "Jeżeli wyświetliła ci się ścieżka dostępu np. `'C:\\\\Users\\\\swps\\\\Dropbox\\\\wesoły jeleń'` to wszystko jest ok.\n",
    "Zamiast wyświetlać tę informację możemy ją uwięzić w zmiennej, piszemy wtedy:\n",
    "```python\n",
    "nazwa_zmiennej = nazwa_funkcji(argument1, argument2)\n",
    "```\n",
    "Użyj funkcji `getcwd` tak samo jak w poprzedniej komórce ale wynik zapisz w zmiennej `mój_folder`. Następnie:\n",
    "* użyj funkcji `print` na tej zmiennej\n",
    "* sprawdź typ tej zmiennej"
   ]
  },
  {
   "cell_type": "code",
   "execution_count": null,
   "metadata": {
    "collapsed": true
   },
   "outputs": [],
   "source": []
  },
  {
   "cell_type": "markdown",
   "metadata": {},
   "source": [
    "Aby przejść do innego folderu możemy skorzystać z funkcji `chdir` modułu `os`. Będziemy to robić dopiero na następnych zajęciach.  \n",
    "Ostatnie zadanie jakie przed Tobą stoi: skorzystamy z funkcji `listdir` modułu `os`, która wyświetla nam zawartość folderu, w którym jesteśmy:"
   ]
  },
  {
   "cell_type": "code",
   "execution_count": null,
   "metadata": {
    "collapsed": true
   },
   "outputs": [],
   "source": [
    "os.listdir()"
   ]
  },
  {
   "cell_type": "markdown",
   "metadata": {},
   "source": [
    "W wyniku powyżej widzimy zawartość folderu, listę nazw plików i folderów, które znajdują się w bieżącym folderze (tzn. tym który pokazuje nam `getcwd`). Gdybyśmy chcieli wydobyć listę plików z konkretnego folderu, podamy funkcji `listdir` argument w postaci ścieżki (a konkretnie - napisu reprezentującego ścieżkę):"
   ]
  },
  {
   "cell_type": "code",
   "execution_count": 188,
   "metadata": {},
   "outputs": [
    {
     "data": {
      "text/plain": [
       "['Administrator',\n",
       " 'All Users',\n",
       " 'Default',\n",
       " 'Default User',\n",
       " 'Default.migrated',\n",
       " 'DefaultAppPool',\n",
       " 'desktop.ini',\n",
       " 'Public',\n",
       " 'swps']"
      ]
     },
     "execution_count": 188,
     "metadata": {},
     "output_type": "execute_result"
    }
   ],
   "source": [
    "os.listdir('C:\\\\Users')"
   ]
  },
  {
   "cell_type": "markdown",
   "metadata": {},
   "source": [
    "To tyle na dziś, zostaje Ci tylko praca domowa: drugi 'rozdział' kursu *Intro to Python for Data Science*.  \n",
    "Nie wykluczam niespodziewanej kartkówki."
   ]
  }
 ],
 "metadata": {
  "kernelspec": {
   "display_name": "Python [Root]",
   "language": "python",
   "name": "Python [Root]"
  },
  "language_info": {
   "codemirror_mode": {
    "name": "ipython",
    "version": 3
   },
   "file_extension": ".py",
   "mimetype": "text/x-python",
   "name": "python",
   "nbconvert_exporter": "python",
   "pygments_lexer": "ipython3",
   "version": "3.5.1"
  }
 },
 "nbformat": 4,
 "nbformat_minor": 2
}
