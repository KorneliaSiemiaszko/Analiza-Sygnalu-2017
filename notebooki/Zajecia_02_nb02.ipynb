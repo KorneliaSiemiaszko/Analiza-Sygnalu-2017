{
  "cells": [
    {
      "cell_type": "markdown",
      "source": [
        "# Wektory\n",
        "Dzisiaj poznamy wektory - wektory to pod wieloma względami takie listy - rodzaj zmiennych, który przechowuje wiele wartości. Wektory w przeciwieństwie do list jednak:\n",
        "* przechowują wartości jednego typu (np. same `float` albo same `int`)\n",
        "* umożliwiają wykonywanie operacji matematycznych dla wszystkich swoich wartości \"na raz\"\n",
        "* są obliczeniowo bardzo wydajne (obliczenia są wykonywane szybko)\n",
        "\nW świecie pythona wektorów dostarcza nam biblioteka `numpy`, importujemy ją najpierw:"
      ],
      "metadata": {
        "collapsed": false,
        "outputHidden": false,
        "inputHidden": false
      }
    },
    {
      "cell_type": "code",
      "source": [
        "import numpy as np"
      ],
      "outputs": [],
      "execution_count": 1,
      "metadata": {}
    },
    {
      "cell_type": "code",
      "source": [
        "moja_lista = [5, 2, 7, 3]\n",
        "mój_wektor = np.array(moja_lista)\n",
        "\n",
        "print(moja_lista)\n",
        "print(mój_wektor)"
      ],
      "outputs": [],
      "execution_count": 2,
      "metadata": {
        "collapsed": false,
        "outputHidden": false,
        "inputHidden": false
      }
    },
    {
      "cell_type": "code",
      "source": [
        "moja_lista * 2"
      ],
      "outputs": [],
      "execution_count": 3,
      "metadata": {}
    },
    {
      "cell_type": "code",
      "source": [
        "mój_wektor * 2"
      ],
      "outputs": [],
      "execution_count": 4,
      "metadata": {
        "collapsed": false,
        "outputHidden": false,
        "inputHidden": false
      }
    },
    {
      "cell_type": "code",
      "source": [
        "długi_wektor = np.array([5.2, 8, 1, 9, 13, 28, 9, 19, 23])\n",
        "\n",
        "print('typ danych w tym wektorze:', długi_wektor.dtype)\n",
        "print('\"kształt\" wektora:', długi_wektor.shape)"
      ],
      "outputs": [],
      "execution_count": 5,
      "metadata": {
        "collapsed": false,
        "outputHidden": false,
        "inputHidden": false
      }
    },
    {
      "cell_type": "code",
      "source": [
        "bardzo_długi_wektor = np.random.randn(1500)\n",
        "bardzo_długi_wektor"
      ],
      "outputs": [],
      "execution_count": 6,
      "metadata": {
        "collapsed": false,
        "outputHidden": false,
        "inputHidden": false
      }
    },
    {
      "cell_type": "markdown",
      "source": [
        "# Wykresy\n",
        "Aby zrozumieć co dzieje się w wektorach mających dużo elementów potrzebujemy wykresów - nasz układ wzrokowy lepiej radzi sobie z kształtami niż z setkami cyfr. Do tego potrzebujemy kolejnej biblioteki: `matplotlib`"
      ],
      "metadata": {}
    },
    {
      "cell_type": "code",
      "source": [
        "import matplotlib.pyplot as plt\n",
        "%matplotlib inline"
      ],
      "outputs": [],
      "execution_count": 7,
      "metadata": {
        "collapsed": false,
        "outputHidden": false,
        "inputHidden": false
      }
    },
    {
      "cell_type": "code",
      "source": [
        "plt.plot(bardzo_długi_wektor)"
      ],
      "outputs": [],
      "execution_count": 8,
      "metadata": {
        "collapsed": false,
        "outputHidden": false,
        "inputHidden": false
      }
    },
    {
      "cell_type": "code",
      "source": [
        "plt.plot(bardzo_długi_wektor[:100])"
      ],
      "outputs": [],
      "execution_count": 9,
      "metadata": {
        "collapsed": false,
        "outputHidden": false,
        "inputHidden": false
      }
    },
    {
      "cell_type": "markdown",
      "source": [
        "Funkcja `plot` gdy dostanie jeden argument rysuje kolejne jego elementy na osi y numerując oś x od zera do długości elementów - 1. Gdy funkcja `plot` dostanie jednak dwa argumenty pierwszy traktuje jako koorydnaty kolejnych punktów na osi x a drugi jako koordynaty na osi y - przez które przechodzi linia."
      ],
      "metadata": {}
    },
    {
      "cell_type": "code",
      "source": [
        "plt.plot([0, 2, 3, 3.5, 4], [0, 2, -1, -2, 1])"
      ],
      "outputs": [],
      "execution_count": 10,
      "metadata": {
        "collapsed": false,
        "outputHidden": false,
        "inputHidden": false
      }
    },
    {
      "cell_type": "code",
      "source": [
        "plt.plot([0, 2, 0, 0], [0, 0, 1, 0])"
      ],
      "outputs": [],
      "execution_count": 11,
      "metadata": {
        "collapsed": false,
        "outputHidden": false,
        "inputHidden": false
      }
    },
    {
      "cell_type": "code",
      "source": [
        "x = np.array([7., 8., 9.5, 11., 13., 10.5, 8.5, 7.5, 5.,\n",
        "             3.5, 2.5, 2., 1., -1., -2.5, -4., -5., -7.,\n",
        "             -9., -8.5, -9.5, -12., -13., -14., -11., -9.,\n",
        "             -8., -7., -5.5, -4., -2.5, -2.5, -1.5, -0.5,\n",
        "             0., -0.5, 0., 1., 3., 5., 7.])\n",
        "y = np.array([6., 5., 4., 3.5, 3., 2.5, 1.5, 0.5, 0.5,\n",
        "             0., -1., -2., -1.5, -1., -1.5, -2.5,  0.,\n",
        "             1.5, 1.5, 4., 5.5, 6., 9., 10.5, 10.5,\n",
        "             10.5, 11., 8., 5.5, 4., 6., 5., 5., 4.5,\n",
        "             5., 3., 2.5, 3., 4., 5., 6.])\n",
        "\n\nplt.plot(x, y, color='black')"
      ],
      "outputs": [],
      "execution_count": 12,
      "metadata": {
        "collapsed": false,
        "outputHidden": false,
        "inputHidden": false
      }
    },
    {
      "cell_type": "markdown",
      "source": [
        "## Ćwiczenia\n",
        "*(na tablicy)*"
      ],
      "metadata": {}
    }
  ],
  "metadata": {
    "kernelspec": {
      "name": "python3",
      "language": "python",
      "display_name": "Python 3"
    },
    "kernel_info": {
      "name": "python3"
    },
    "language_info": {
      "name": "python",
      "version": "3.6.1",
      "mimetype": "text/x-python",
      "codemirror_mode": {
        "name": "ipython",
        "version": 3
      },
      "pygments_lexer": "ipython3",
      "nbconvert_exporter": "python",
      "file_extension": ".py"
    },
    "nteract": {
      "version": "0.3.2"
    }
  },
  "nbformat": 4,
  "nbformat_minor": 4
}