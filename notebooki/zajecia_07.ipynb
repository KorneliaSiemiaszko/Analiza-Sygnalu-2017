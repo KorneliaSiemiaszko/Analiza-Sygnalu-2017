{
 "cells": [
  {
   "cell_type": "markdown",
   "metadata": {
    "inputHidden": false,
    "outputHidden": false
   },
   "source": [
    "# Wczytujemy dane"
   ]
  },
  {
   "cell_type": "code",
   "execution_count": 2,
   "metadata": {
    "collapsed": true,
    "inputHidden": false,
    "outputHidden": false
   },
   "outputs": [],
   "source": [
    "import os\n",
    "import matplotlib.pyplot as plt\n",
    "import mne\n",
    "\n",
    "%matplotlib inline"
   ]
  },
  {
   "cell_type": "markdown",
   "metadata": {},
   "source": [
    "Plik ten sam co ostatnio (`'sternberg_diam_015_AK-epo.fif'`), tym razem wczytajcie go sami. Im mniej pomocy potrzebujecie przy tym (ze strony internetu, innych studentów), tym lepiej."
   ]
  },
  {
   "cell_type": "code",
   "execution_count": null,
   "metadata": {
    "collapsed": true
   },
   "outputs": [],
   "source": [
    "# wczytujemy"
   ]
  },
  {
   "cell_type": "markdown",
   "metadata": {},
   "source": [
    "Tak jak wcześniej - robimy widmo dla warunków l2 i l4, tylko dla elektrod Pz i Fz. Znów - im mniej musicie sięgać do źródeł zewnętrznych względem swojego mózgu - tym lepiej."
   ]
  },
  {
   "cell_type": "code",
   "execution_count": null,
   "metadata": {
    "collapsed": true
   },
   "outputs": [],
   "source": [
    "# tutaj robimy widmo"
   ]
  },
  {
   "cell_type": "markdown",
   "metadata": {},
   "source": [
    "I ponownie, tak jak na ostatnich zajęciach, stajemy przed dylematem:\n",
    "chcemy zdefiniować sobie dwa pasma częstotliwościowe:\n",
    "* 9 - 11 Hz (tu widać efekt dla elektrod potylicznych)\n",
    "* 12 - 14 Hz (tu widać efekt dla elektrod czołowych)\n",
    "\n",
    "Chcemy uśrednić w tych pasmach widmo (ale nie będzimy chcieli uśredniać epok).  \n",
    "Dodatkowo, chcemy to zrobić zarówno dla elektrody Pz jak i Fz.  \n",
    "Na początek skupmy się na elektrodzie Pz, paśmie 9 - 11.  \n",
    "Do szykania zakresów przyda się Wam funkcja z ostatnich zajęć:  "
   ]
  },
  {
   "cell_type": "code",
   "execution_count": 14,
   "metadata": {
    "collapsed": true
   },
   "outputs": [],
   "source": [
    "def znajdź_zakres(freq, lo, hi):\n",
    "    abs_diff_lo = np.abs(freq - lo)\n",
    "    lo_idx = np.argmin(abs_diff_lo)\n",
    "    abs_diff_hi = np.abs(freq - hi)\n",
    "    hi_idx = np.argmin(abs_diff_hi)\n",
    "    return lo_idx, hi_idx + 1"
   ]
  },
  {
   "cell_type": "markdown",
   "metadata": {},
   "source": [
    "Przypomnienie: używamy jej tak:"
   ]
  },
  {
   "cell_type": "code",
   "execution_count": 17,
   "metadata": {},
   "outputs": [
    {
     "name": "stdout",
     "output_type": "stream",
     "text": [
      "[  0.           0.53571429   1.07142857   1.60714286   2.14285714\n",
      "   2.67857143   3.21428571   3.75         4.28571429   4.82142857\n",
      "   5.35714286   5.89285714   6.42857143   6.96428571   7.5          8.03571429\n",
      "   8.57142857   9.10714286   9.64285714  10.17857143  10.71428571  11.25\n",
      "  11.78571429  12.32142857  12.85714286  13.39285714  13.92857143\n",
      "  14.46428571  15.        ]\n"
     ]
    }
   ],
   "source": [
    "import numpy as np\n",
    "częstotliwości = np.linspace(0, 15, num=29)\n",
    "print(częstotliwości)"
   ]
  },
  {
   "cell_type": "code",
   "execution_count": 18,
   "metadata": {},
   "outputs": [
    {
     "name": "stdout",
     "output_type": "stream",
     "text": [
      "15 20\n",
      "[  8.03571429   8.57142857   9.10714286   9.64285714  10.17857143]\n"
     ]
    }
   ],
   "source": [
    "l, h = znajdź_zakres(częstotliwości, 8, 10)\n",
    "print(l, h)\n",
    "print(częstotliwości[l:h])"
   ]
  },
  {
   "cell_type": "markdown",
   "metadata": {},
   "source": [
    "W podobny sposób możemy wybrać jakiś zakres częstotliwościowy oraz go uśrednić.\n",
    "Pomyślcie jak zrobić średnią dla zakresu 9 - 11 Hz dla widma z elektrody Pz, warunku l2."
   ]
  },
  {
   "cell_type": "code",
   "execution_count": null,
   "metadata": {
    "collapsed": true
   },
   "outputs": [],
   "source": [
    "# tutaj robymy średnią"
   ]
  },
  {
   "cell_type": "markdown",
   "metadata": {},
   "source": [
    "Powiedzmy, że mamy teraz tę średnią w zmiennej `avg_Pz_l2`. Zaraz zrobicie sobie średnią dla drugiego warunku i porównacie, ale możecie sprawdzić czy Wam się zgadzają wartości:"
   ]
  },
  {
   "cell_type": "code",
   "execution_count": 38,
   "metadata": {},
   "outputs": [
    {
     "name": "stdout",
     "output_type": "stream",
     "text": [
      "[  2.04452392e-13   4.63009945e-13   3.50157130e-13   7.12665727e-13\n",
      "   3.43636470e-12   4.28019437e-13   1.00826767e-13   4.81434040e-13\n",
      "   4.77254109e-13   6.38572878e-13]\n"
     ]
    }
   ],
   "source": [
    "print(avg_Pz_l2[:10])"
   ]
  },
  {
   "cell_type": "markdown",
   "metadata": {},
   "source": [
    "Możemy też zobaczyć sobie histogram:"
   ]
  },
  {
   "cell_type": "code",
   "execution_count": 40,
   "metadata": {},
   "outputs": [
    {
     "data": {
      "image/png": "[encoded data removed]",
      "text/plain": [
       "<matplotlib.figure.Figure at 0x23f2584d240>"
      ]
     },
     "metadata": {},
     "output_type": "display_data"
    }
   ],
   "source": [
    "plt.hist(avg_Pz_l2);"
   ]
  },
  {
   "cell_type": "code",
   "execution_count": 42,
   "metadata": {},
   "outputs": [
    {
     "data": {
      "image/png": "[encoded data removed]",
      "text/plain": [
       "<matplotlib.figure.Figure at 0x23f23f80ba8>"
      ]
     },
     "metadata": {},
     "output_type": "display_data"
    }
   ],
   "source": [
    "plt.hist(avg_Pz_l2, bins=20);"
   ]
  },
  {
   "cell_type": "markdown",
   "metadata": {},
   "source": [
    "Weźcie pod uwagę że rozkład jest bardzo wyraźnie skośny - później przeprowadzimy test również dla zlogarytmizowanych wartości.  \n",
    "Policzcie więc sobie również `avg_Pz_l4`, a następnie poszukajcie informacji w necie jak zrobić test t dla prób niezależnych\n",
    "(test przeprowadzamy teraz na epokach z jednej osoby i chociaż epoki pochodzące z tej samej osoby będą do siebie bardziej podobne niż pochodzące od dwóch różnych osób, w kontekście testów wewnątrz osoby możemy je traktować jako niezależne)."
   ]
  },
  {
   "cell_type": "code",
   "execution_count": null,
   "metadata": {
    "collapsed": true
   },
   "outputs": [],
   "source": [
    "# liczymy avg_Pz_l4 oraz porównujemy testem t"
   ]
  },
  {
   "cell_type": "markdown",
   "metadata": {},
   "source": [
    "Gdy wybrzmi już wynik testu, sprawdźmy co się dzieje w sytuacji gdy zlogarytmizujemy nasze zmienne.\n",
    "Skorzystaj do tego z `np.log` (logarytm naturalny) albo `np.log10` (logarytm o podstawie 10)."
   ]
  },
  {
   "cell_type": "code",
   "execution_count": null,
   "metadata": {
    "collapsed": true
   },
   "outputs": [],
   "source": [
    "# test znów"
   ]
  },
  {
   "cell_type": "markdown",
   "metadata": {},
   "source": [
    "Odpowiedz na pytanie: \n",
    "> czy wynik testu zmienia się w zależności od logarytmizacji danych?  \n",
    "> Dlaczego (tak/nie)?"
   ]
  },
  {
   "cell_type": "markdown",
   "metadata": {},
   "source": [
    "Następnie przeprowadź ten sam test dla drugiej elektrody a także obu elektrod dla drugiego pasma częstotliwościowego."
   ]
  },
  {
   "cell_type": "code",
   "execution_count": null,
   "metadata": {
    "collapsed": true
   },
   "outputs": [],
   "source": [
    "# testy"
   ]
  },
  {
   "cell_type": "markdown",
   "metadata": {},
   "source": [
    "Jak zrobić wykres do tych testów? Na razie wybierzemy sobie jeden test i skorzystamy z pakietu `seaborn` aby zwizualizować porównywane dane."
   ]
  },
  {
   "cell_type": "markdown",
   "metadata": {},
   "source": [
    "Co gdymyśmy chcieli wykonać porównania dla każdego punktu widma?"
   ]
  },
  {
   "cell_type": "code",
   "execution_count": null,
   "metadata": {
    "collapsed": true
   },
   "outputs": [],
   "source": [
    "# możesz spróbować, ale to pokażę jak zrobić"
   ]
  },
  {
   "cell_type": "markdown",
   "metadata": {},
   "source": [
    "(w zależnosći od tego czy jest na to czas): korekta cluster-based"
   ]
  },
  {
   "cell_type": "markdown",
   "metadata": {},
   "source": [
    "## Czas-częstość"
   ]
  },
  {
   "cell_type": "code",
   "execution_count": 5,
   "metadata": {
    "collapsed": true
   },
   "outputs": [],
   "source": [
    "import numpy as np\n",
    "from mne.time_frequency import tfr_morlet"
   ]
  },
  {
   "cell_type": "code",
   "execution_count": 6,
   "metadata": {},
   "outputs": [
    {
     "name": "stderr",
     "output_type": "stream",
     "text": [
      "[Parallel(n_jobs=3)]: Done  12 tasks      | elapsed:    4.8s\n",
      "[Parallel(n_jobs=3)]: Done  63 out of  63 | elapsed:    8.4s finished\n",
      "[Parallel(n_jobs=3)]: Done  12 tasks      | elapsed:    4.7s\n",
      "[Parallel(n_jobs=3)]: Done  63 out of  63 | elapsed:    8.4s finished\n"
     ]
    }
   ],
   "source": [
    "freq = np.arange(3, 20, 0.25)\n",
    "n_cycles = freq / 2.5\n",
    "\n",
    "tfr_2 = tfr_morlet(epochs['l2'], freq, n_cycles, use_fft=True,\n",
    "                   return_itc=False, n_jobs=3)\n",
    "tfr_4 = tfr_morlet(epochs['l4'], freq, n_cycles, use_fft=True,\n",
    "                   return_itc=False, n_jobs=3)"
   ]
  },
  {
   "cell_type": "code",
   "execution_count": 9,
   "metadata": {},
   "outputs": [
    {
     "name": "stdout",
     "output_type": "stream",
     "text": [
      "Using matplotlib backend: Qt5Agg\n"
     ]
    }
   ],
   "source": [
    "%matplotlib"
   ]
  },
  {
   "cell_type": "code",
   "execution_count": 10,
   "metadata": {},
   "outputs": [
    {
     "name": "stdout",
     "output_type": "stream",
     "text": [
      "Applying baseline correction (mode: percent)\n",
      "Applying baseline correction (mode: percent)\n",
      "Applying baseline correction (mode: percent)\n"
     ]
    }
   ],
   "source": [
    "tfr_2.plot_topo(baseline=(-0.4, -0.1), mode='percent');"
   ]
  },
  {
   "cell_type": "code",
   "execution_count": 11,
   "metadata": {
    "collapsed": true
   },
   "outputs": [],
   "source": [
    "%matplotlib inline"
   ]
  },
  {
   "cell_type": "code",
   "execution_count": 12,
   "metadata": {},
   "outputs": [
    {
     "name": "stdout",
     "output_type": "stream",
     "text": [
      "Applying baseline correction (mode: percent)\n",
      "Applying baseline correction (mode: percent)\n"
     ]
    },
    {
     "data": {
      "image/png": "[encoded data removed]",
      "text/plain": [
       "<matplotlib.figure.Figure at 0x1b706a38978>"
      ]
     },
     "metadata": {},
     "output_type": "display_data"
    }
   ],
   "source": [
    "ch = epochs.ch_names.index('PO3')\n",
    "\n",
    "fig, ax = plt.subplots(nrows=2)\n",
    "tfr_2.plot([ch], baseline=(-0.4, -0.1), mode='percent', axes=ax[0], show=False,\n",
    "           vmin=-5, vmax=5, colorbar=False);\n",
    "tfr_4.plot([ch], baseline=(-0.4, -0.1), mode='percent', axes=ax[1],\n",
    "           vmin=-5, vmax=5, colorbar=False);"
   ]
  }
 ],
 "metadata": {
  "kernel_info": {
   "name": "python3"
  },
  "kernelspec": {
   "display_name": "Python [Root]",
   "language": "python",
   "name": "Python [Root]"
  },
  "language_info": {
   "codemirror_mode": {
    "name": "ipython",
    "version": 3
   },
   "file_extension": ".py",
   "mimetype": "text/x-python",
   "name": "python",
   "nbconvert_exporter": "python",
   "pygments_lexer": "ipython3",
   "version": "3.5.1"
  },
  "nteract": {
   "version": "0.2.0"
  }
 },
 "nbformat": 4,
 "nbformat_minor": 4
}
